{
 "cells": [
  {
   "cell_type": "code",
   "execution_count": 27,
   "metadata": {},
   "outputs": [
    {
     "data": {
      "text/plain": [
       "True"
      ]
     },
     "execution_count": 27,
     "metadata": {},
     "output_type": "execute_result"
    }
   ],
   "source": [
    "#main.ipynb\n",
    "\n",
    "import os # for accessing environment variables\n",
    "from dotenv import load_dotenv # for loading environment variables from .env file\n",
    "from abc import ABC, abstractmethod # abstract class, dont worry about this yet I will explain later in another article\n",
    "import pprint\n",
    "# imports from langchain package\n",
    "from langchain.llms import OpenAI\n",
    "from langchain.chat_models import ChatOpenAI\n",
    "from langchain.prompts import PromptTemplate\n",
    "\n",
    "# load environment variables from .env file\n",
    "load_dotenv() \n"
   ]
  },
  {
   "cell_type": "code",
   "execution_count": 9,
   "metadata": {},
   "outputs": [],
   "source": [
    "# Your OpenAI API Key loaded from .env file\n",
    "OPENAI_API_KEY = os.getenv(\"OPENAI_API_KEY\",\"replace this with your key if you dont have an env file\") \n",
    "llm = OpenAI(openai_api_key=OPENAI_API_KEY) # Language Model\n",
    "chat_model = ChatOpenAI()"
   ]
  },
  {
   "cell_type": "code",
   "execution_count": 15,
   "metadata": {},
   "outputs": [
    {
     "name": "stdout",
     "output_type": "stream",
     "text": [
      "What is the meaning of life?\n",
      "The meaning of life is subjective and can vary significantly from person to person. It may involve finding purpose and fulfillment, creating meaningful relationships and connections, pursuing passions, and discovering one's true self. Ultimately, the meaning of life is up to the individual to define.\n",
      "What is the meaning of life?\n",
      "The meaning of life is a philosophical question that has been debated for centuries. Different individuals and cultures may have different interpretations and beliefs about the purpose and significance of life. Some may find meaning in religious or spiritual beliefs, others may seek fulfillment through personal relationships, experiences, or the pursuit of knowledge and self-improvement. Ultimately, the meaning of life may vary from person to person, and it is a subjective concept that each individual must find and define for themselves.\n"
     ]
    }
   ],
   "source": [
    "question = \"What is the meaning of life?\"\n",
    "# use llm.predict to get the answer\n",
    "answer = llm.predict(question).strip()\n",
    "print(question)\n",
    "print(answer)\n",
    "# use chat_model.predict to get the answer\n",
    "answer = chat_model.predict(question).strip()\n",
    "print(question)\n",
    "print(answer)"
   ]
  },
  {
   "cell_type": "code",
   "execution_count": 18,
   "metadata": {},
   "outputs": [
    {
     "name": "stdout",
     "output_type": "stream",
     "text": [
      "What is the meaning of life in the context of philosophy?\n"
     ]
    }
   ],
   "source": [
    "#implementing prompt template for chatbot to enable parameterized questions\n",
    "promptTemplate = PromptTemplate.from_template(\n",
    "    \"What is {topic} in the context of {context}?\"\n",
    "    )\n",
    "\n",
    "# this format the prompt template with the given parameters\n",
    "prompt = promptTemplate.format(\n",
    "    topic=\"the meaning of life\", \n",
    "    context=\"philosophy\")\n",
    "\n",
    "print(prompt)"
   ]
  },
  {
   "cell_type": "code",
   "execution_count": 23,
   "metadata": {},
   "outputs": [
    {
     "name": "stdout",
     "output_type": "stream",
     "text": [
      "What is the meaning of life in the context of biology?\n",
      "In the context of biology, the meaning of life refers to the purpose or significance of living organisms. While the question of life's meaning is philosophical and can have various interpretations, from a biological perspective, the meaning of life can be understood as the continuation and propagation of a species. In other words, the primary goal of life, as seen in biological terms, is to survive, reproduce, and pass on genetic material to the next generation. This perpetuation of life ensures the survival and evolutionary progression of a species over time.\n"
     ]
    }
   ],
   "source": [
    "# this block is getting repettive, let's create a function\n",
    "question = promptTemplate.format(\n",
    "    topic=\"the meaning of life\", \n",
    "    context=\"biology\")\n",
    "answer = chat_model.predict(question).strip()\n",
    "print(question)\n",
    "print(answer)"
   ]
  },
  {
   "cell_type": "code",
   "execution_count": 31,
   "metadata": {},
   "outputs": [
    {
     "name": "stdout",
     "output_type": "stream",
     "text": [
      "{   'answer': 'In the context of biology, the meaning of life refers to the '\n",
      "              'purpose or significance of living organisms and their '\n",
      "              'existence. The field of biology seeks to understand the '\n",
      "              'mechanisms and processes that govern life and its various '\n",
      "              'forms, from single-celled organisms to complex multicellular '\n",
      "              'organisms. The fundamental goal of all living organisms, as '\n",
      "              'dictated by biology, is to survive, reproduce, and pass on '\n",
      "              'their genetic information to the next generation. Therefore, '\n",
      "              'the meaning of life in the context of biology revolves around '\n",
      "              'the continuation and propagation of life through these '\n",
      "              'fundamental processes.',\n",
      "    'question': 'What is the meaning of life in the context of biology?'}\n",
      "{   'answer': 'In the context of philosophy, the meaning of life refers to the '\n",
      "              'question of why we exist and what gives our lives purpose and '\n",
      "              'significance. It is a fundamental and complex question that has '\n",
      "              'been explored by various philosophical schools of thought '\n",
      "              'throughout history. Different philosophical perspectives offer '\n",
      "              'different interpretations and answers to this question, '\n",
      "              'reflecting diverse cultural, religious, and individual beliefs. '\n",
      "              'Some key philosophical approaches to understanding the meaning '\n",
      "              'of life include existentialism, nihilism, religious '\n",
      "              'perspectives, and teleological theories. Ultimately, the '\n",
      "              'meaning of life is an individual and subjective inquiry, with '\n",
      "              'each person potentially finding their own unique purpose and '\n",
      "              'significance.',\n",
      "    'question': 'What is the meaning of life in the context of philosophy?'}\n",
      "{   'answer': 'In the context of physics, the question about the meaning of '\n",
      "              'life falls outside the scope of the field. Physics is primarily '\n",
      "              'concerned with studying the fundamental laws and principles '\n",
      "              'that govern the natural world, including matter, energy, and '\n",
      "              'their interactions. It addresses questions related to the '\n",
      "              'physical properties of objects, the behavior of particles, the '\n",
      "              'forces between them, and the nature of space and time.\\n'\n",
      "              '\\n'\n",
      "              'The meaning of life is a philosophical and existential question '\n",
      "              'that pertains to the purpose, significance, and overall value '\n",
      "              'of human existence. It involves pondering subjective and '\n",
      "              'abstract aspects such as personal fulfillment, morality, '\n",
      "              'consciousness, and the pursuit of happiness. These are beyond '\n",
      "              'the realm of physics, which deals with the objective and '\n",
      "              'measurable aspects of the universe.\\n'\n",
      "              '\\n'\n",
      "              'While physics can provide insights into how life and its '\n",
      "              'processes emerge from the fundamental building blocks of '\n",
      "              'matter, it does not address the philosophical or metaphysical '\n",
      "              \"aspects of life's meaning.\",\n",
      "    'question': 'What is the meaning of life in the context of physics?'}\n"
     ]
    }
   ],
   "source": [
    "def get_answer(topic, context):\n",
    "    \"\"\"\n",
    "    This function returns the answer to the question \"What is {topic} in the context of {context}?\"\n",
    "    in dictionary format\n",
    "    \"\"\"\n",
    "    promptTemplate = PromptTemplate.from_template(\n",
    "    \"What is {topic} in the context of {context}?\"\n",
    "    )\n",
    "    question = promptTemplate.format(\n",
    "        topic=topic, \n",
    "        context=context)\n",
    "    answer = chat_model.predict(question).strip()\n",
    "    return {\"question\": question, \"answer\": answer}\n",
    "\n",
    "pp = pprint.PrettyPrinter(indent=4) # for pretty printing the output\n",
    "pp.pprint(get_answer(\"the meaning of life\", \"biology\"))\n",
    "pp.pprint(get_answer(\"the meaning of life\", \"philosophy\"))\n",
    "pp.pprint(get_answer(\"the meaning of life\", \"physics\"))"
   ]
  },
  {
   "cell_type": "markdown",
   "metadata": {},
   "source": [
    "# a teaser of abstract class creation"
   ]
  },
  {
   "cell_type": "code",
   "execution_count": null,
   "metadata": {},
   "outputs": [],
   "source": [
    "#dependancy injection\n",
    "class Chatbot(ABC):\n",
    "    #abstract parameter\n",
    "    _promptTemplate: PromptTemplate\n",
    "\n",
    "    \"\"\" Abstract class for chatbots \"\"\"\n",
    "    def __init__(self, chat_model):\n",
    "        self.chat_model = chat_model\n",
    "    @abstractmethod #this is a decorator that makes sure that the predict method is implemented in the child class\n",
    "    def predict(self, question)->str:\n",
    "        pass\n",
    "    @abstractmethod\n",
    "    def setPromptTemplate(self, promptTemplate: PromptTemplate)->None:\n",
    "        pass\n",
    "\n",
    "class ChatbotOpenAI(Chatbot):\n",
    "    def __init__(self, chat_model):\n",
    "        super().__init__(chat_model) # this is the same as Chatbot.__init__(self, chat_model)\n",
    "    def predict(self, question):\n",
    "        \"\"\" Predicts the answer to a question using the chat model \"\"\"\n",
    "        return self.chat_model.predict(question).strip()\n",
    "    def setPromptTemplate(self, promptTemplate: PromptTemplate):\n",
    "        \"\"\" Sets the prompt template for the chat model \"\"\"\n",
    "        self._promptTemplate = promptTemplate\n"
   ]
  }
 ],
 "metadata": {
  "kernelspec": {
   "display_name": "LangChainPrompting",
   "language": "python",
   "name": "python3"
  },
  "language_info": {
   "codemirror_mode": {
    "name": "ipython",
    "version": 3
   },
   "file_extension": ".py",
   "mimetype": "text/x-python",
   "name": "python",
   "nbconvert_exporter": "python",
   "pygments_lexer": "ipython3",
   "version": "3.10.13"
  },
  "orig_nbformat": 4
 },
 "nbformat": 4,
 "nbformat_minor": 2
}
